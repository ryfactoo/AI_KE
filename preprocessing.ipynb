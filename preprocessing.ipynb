{
 "cells": [
  {
   "cell_type": "code",
   "execution_count": 164,
   "metadata": {
    "collapsed": true
   },
   "outputs": [],
   "source": [
    "import pandas as pd"
   ]
  },
  {
   "cell_type": "code",
   "execution_count": 165,
   "outputs": [
    {
     "name": "stderr",
     "output_type": "stream",
     "text": [
      "C:\\Users\\Igor\\AppData\\Local\\Temp\\ipykernel_25396\\3445319680.py:1: DtypeWarning: Columns (2) have mixed types. Specify dtype option on import or set low_memory=False.\n",
      "  data = pd.read_csv('D:\\\\Studia\\\\6 semestr\\\\Sztuczna\\\\Lista1\\\\data.csv')\n"
     ]
    }
   ],
   "source": [
    "data = pd.read_csv('D:\\\\Studia\\\\6 semestr\\\\Sztuczna\\\\Lista1\\\\data.csv')"
   ],
   "metadata": {
    "collapsed": false
   }
  },
  {
   "cell_type": "code",
   "execution_count": 166,
   "outputs": [
    {
     "data": {
      "text/plain": "        Unnamed: 0               company line departure_time arrival_time  \\\n0                0          MPK Autobusy    A       20:52:00     20:53:00   \n1                1          MPK Autobusy    A       20:53:00     20:54:00   \n2                2          MPK Autobusy    A       20:54:00     20:55:00   \n3                3          MPK Autobusy    A       20:55:00     20:57:00   \n4                4          MPK Autobusy    A       20:57:00     20:59:00   \n...            ...                   ...  ...            ...          ...   \n996515      996515  DLA Kąty Wrocławskie  967       18:38:00     18:39:00   \n996516      996516  DLA Kąty Wrocławskie  967       18:39:00     18:41:00   \n996517      996517  DLA Kąty Wrocławskie  967       18:41:00     18:42:00   \n996518      996518  DLA Kąty Wrocławskie  967       18:42:00     18:43:00   \n996519      996519  DLA Kąty Wrocławskie  967       18:43:00     18:45:00   \n\n                         start_stop                     end_stop  \\\n0               Zajezdnia Obornicka                     Paprotna   \n1                          Paprotna         Obornicka (Wołowska)   \n2              Obornicka (Wołowska)                   Bezpieczna   \n3                        Bezpieczna                     Bałtycka   \n4                          Bałtycka                Broniewskiego   \n...                             ...                          ...   \n996515        Smolec - Lipowa/pętla      Smolec - Dębowa (sklep)   \n996516      Smolec - Dębowa (sklep)            Krzeptów - skrzy.   \n996517            Krzeptów - skrzy.            Krzeptów - Boisko   \n996518            Krzeptów - Boisko  Krzeptów - Dolina Krzeptowa   \n996519  Krzeptów - Dolina Krzeptowa            Smolec - Wiśniowa   \n\n        start_stop_lat  start_stop_lon  end_stop_lat  end_stop_lon  \n0            51.148737       17.021069     51.147752     17.020539  \n1            51.147752       17.020539     51.144385     17.023735  \n2            51.144385       17.023735     51.141360     17.026376  \n3            51.141360       17.026376     51.136632     17.030617  \n4            51.136632       17.030617     51.135851     17.037383  \n...                ...             ...           ...           ...  \n996515       51.075005       16.884421     51.076932     16.881543  \n996516       51.076932       16.881543     51.088752     16.875808  \n996517       51.088752       16.875808     51.090678     16.885584  \n996518       51.090678       16.885584     51.092268     16.892523  \n996519       51.092268       16.892523     51.087869     16.909206  \n\n[996520 rows x 11 columns]",
      "text/html": "<div>\n<style scoped>\n    .dataframe tbody tr th:only-of-type {\n        vertical-align: middle;\n    }\n\n    .dataframe tbody tr th {\n        vertical-align: top;\n    }\n\n    .dataframe thead th {\n        text-align: right;\n    }\n</style>\n<table border=\"1\" class=\"dataframe\">\n  <thead>\n    <tr style=\"text-align: right;\">\n      <th></th>\n      <th>Unnamed: 0</th>\n      <th>company</th>\n      <th>line</th>\n      <th>departure_time</th>\n      <th>arrival_time</th>\n      <th>start_stop</th>\n      <th>end_stop</th>\n      <th>start_stop_lat</th>\n      <th>start_stop_lon</th>\n      <th>end_stop_lat</th>\n      <th>end_stop_lon</th>\n    </tr>\n  </thead>\n  <tbody>\n    <tr>\n      <th>0</th>\n      <td>0</td>\n      <td>MPK Autobusy</td>\n      <td>A</td>\n      <td>20:52:00</td>\n      <td>20:53:00</td>\n      <td>Zajezdnia Obornicka</td>\n      <td>Paprotna</td>\n      <td>51.148737</td>\n      <td>17.021069</td>\n      <td>51.147752</td>\n      <td>17.020539</td>\n    </tr>\n    <tr>\n      <th>1</th>\n      <td>1</td>\n      <td>MPK Autobusy</td>\n      <td>A</td>\n      <td>20:53:00</td>\n      <td>20:54:00</td>\n      <td>Paprotna</td>\n      <td>Obornicka (Wołowska)</td>\n      <td>51.147752</td>\n      <td>17.020539</td>\n      <td>51.144385</td>\n      <td>17.023735</td>\n    </tr>\n    <tr>\n      <th>2</th>\n      <td>2</td>\n      <td>MPK Autobusy</td>\n      <td>A</td>\n      <td>20:54:00</td>\n      <td>20:55:00</td>\n      <td>Obornicka (Wołowska)</td>\n      <td>Bezpieczna</td>\n      <td>51.144385</td>\n      <td>17.023735</td>\n      <td>51.141360</td>\n      <td>17.026376</td>\n    </tr>\n    <tr>\n      <th>3</th>\n      <td>3</td>\n      <td>MPK Autobusy</td>\n      <td>A</td>\n      <td>20:55:00</td>\n      <td>20:57:00</td>\n      <td>Bezpieczna</td>\n      <td>Bałtycka</td>\n      <td>51.141360</td>\n      <td>17.026376</td>\n      <td>51.136632</td>\n      <td>17.030617</td>\n    </tr>\n    <tr>\n      <th>4</th>\n      <td>4</td>\n      <td>MPK Autobusy</td>\n      <td>A</td>\n      <td>20:57:00</td>\n      <td>20:59:00</td>\n      <td>Bałtycka</td>\n      <td>Broniewskiego</td>\n      <td>51.136632</td>\n      <td>17.030617</td>\n      <td>51.135851</td>\n      <td>17.037383</td>\n    </tr>\n    <tr>\n      <th>...</th>\n      <td>...</td>\n      <td>...</td>\n      <td>...</td>\n      <td>...</td>\n      <td>...</td>\n      <td>...</td>\n      <td>...</td>\n      <td>...</td>\n      <td>...</td>\n      <td>...</td>\n      <td>...</td>\n    </tr>\n    <tr>\n      <th>996515</th>\n      <td>996515</td>\n      <td>DLA Kąty Wrocławskie</td>\n      <td>967</td>\n      <td>18:38:00</td>\n      <td>18:39:00</td>\n      <td>Smolec - Lipowa/pętla</td>\n      <td>Smolec - Dębowa (sklep)</td>\n      <td>51.075005</td>\n      <td>16.884421</td>\n      <td>51.076932</td>\n      <td>16.881543</td>\n    </tr>\n    <tr>\n      <th>996516</th>\n      <td>996516</td>\n      <td>DLA Kąty Wrocławskie</td>\n      <td>967</td>\n      <td>18:39:00</td>\n      <td>18:41:00</td>\n      <td>Smolec - Dębowa (sklep)</td>\n      <td>Krzeptów - skrzy.</td>\n      <td>51.076932</td>\n      <td>16.881543</td>\n      <td>51.088752</td>\n      <td>16.875808</td>\n    </tr>\n    <tr>\n      <th>996517</th>\n      <td>996517</td>\n      <td>DLA Kąty Wrocławskie</td>\n      <td>967</td>\n      <td>18:41:00</td>\n      <td>18:42:00</td>\n      <td>Krzeptów - skrzy.</td>\n      <td>Krzeptów - Boisko</td>\n      <td>51.088752</td>\n      <td>16.875808</td>\n      <td>51.090678</td>\n      <td>16.885584</td>\n    </tr>\n    <tr>\n      <th>996518</th>\n      <td>996518</td>\n      <td>DLA Kąty Wrocławskie</td>\n      <td>967</td>\n      <td>18:42:00</td>\n      <td>18:43:00</td>\n      <td>Krzeptów - Boisko</td>\n      <td>Krzeptów - Dolina Krzeptowa</td>\n      <td>51.090678</td>\n      <td>16.885584</td>\n      <td>51.092268</td>\n      <td>16.892523</td>\n    </tr>\n    <tr>\n      <th>996519</th>\n      <td>996519</td>\n      <td>DLA Kąty Wrocławskie</td>\n      <td>967</td>\n      <td>18:43:00</td>\n      <td>18:45:00</td>\n      <td>Krzeptów - Dolina Krzeptowa</td>\n      <td>Smolec - Wiśniowa</td>\n      <td>51.092268</td>\n      <td>16.892523</td>\n      <td>51.087869</td>\n      <td>16.909206</td>\n    </tr>\n  </tbody>\n</table>\n<p>996520 rows × 11 columns</p>\n</div>"
     },
     "execution_count": 166,
     "metadata": {},
     "output_type": "execute_result"
    }
   ],
   "source": [
    "data"
   ],
   "metadata": {
    "collapsed": false
   }
  },
  {
   "cell_type": "code",
   "execution_count": 167,
   "outputs": [],
   "source": [
    "start_stops = data[['start_stop', 'start_stop_lat', 'start_stop_lon']].rename(columns={'start_stop': 'stop', 'start_stop_lat': 'lat', 'start_stop_lon': 'lon'})\n",
    "end_stops = data[['end_stop', 'end_stop_lat', 'end_stop_lon']].rename(columns={'end_stop': 'stop', 'end_stop_lat': 'lat', 'end_stop_lon': 'lon'})\n"
   ],
   "metadata": {
    "collapsed": false
   }
  },
  {
   "cell_type": "code",
   "execution_count": 168,
   "outputs": [
    {
     "data": {
      "text/plain": "                               stop        lat        lon\n0               Zajezdnia Obornicka  51.148737  17.021069\n1                          Paprotna  51.147752  17.020539\n2              Obornicka (Wołowska)  51.144385  17.023735\n3                        Bezpieczna  51.141360  17.026376\n4                          Bałtycka  51.136632  17.030617\n...                             ...        ...        ...\n996515        Smolec - Lipowa/pętla  51.075005  16.884421\n996516      Smolec - Dębowa (sklep)  51.076932  16.881543\n996517            Krzeptów - skrzy.  51.088752  16.875808\n996518            Krzeptów - Boisko  51.090678  16.885584\n996519  Krzeptów - Dolina Krzeptowa  51.092268  16.892523\n\n[996520 rows x 3 columns]",
      "text/html": "<div>\n<style scoped>\n    .dataframe tbody tr th:only-of-type {\n        vertical-align: middle;\n    }\n\n    .dataframe tbody tr th {\n        vertical-align: top;\n    }\n\n    .dataframe thead th {\n        text-align: right;\n    }\n</style>\n<table border=\"1\" class=\"dataframe\">\n  <thead>\n    <tr style=\"text-align: right;\">\n      <th></th>\n      <th>stop</th>\n      <th>lat</th>\n      <th>lon</th>\n    </tr>\n  </thead>\n  <tbody>\n    <tr>\n      <th>0</th>\n      <td>Zajezdnia Obornicka</td>\n      <td>51.148737</td>\n      <td>17.021069</td>\n    </tr>\n    <tr>\n      <th>1</th>\n      <td>Paprotna</td>\n      <td>51.147752</td>\n      <td>17.020539</td>\n    </tr>\n    <tr>\n      <th>2</th>\n      <td>Obornicka (Wołowska)</td>\n      <td>51.144385</td>\n      <td>17.023735</td>\n    </tr>\n    <tr>\n      <th>3</th>\n      <td>Bezpieczna</td>\n      <td>51.141360</td>\n      <td>17.026376</td>\n    </tr>\n    <tr>\n      <th>4</th>\n      <td>Bałtycka</td>\n      <td>51.136632</td>\n      <td>17.030617</td>\n    </tr>\n    <tr>\n      <th>...</th>\n      <td>...</td>\n      <td>...</td>\n      <td>...</td>\n    </tr>\n    <tr>\n      <th>996515</th>\n      <td>Smolec - Lipowa/pętla</td>\n      <td>51.075005</td>\n      <td>16.884421</td>\n    </tr>\n    <tr>\n      <th>996516</th>\n      <td>Smolec - Dębowa (sklep)</td>\n      <td>51.076932</td>\n      <td>16.881543</td>\n    </tr>\n    <tr>\n      <th>996517</th>\n      <td>Krzeptów - skrzy.</td>\n      <td>51.088752</td>\n      <td>16.875808</td>\n    </tr>\n    <tr>\n      <th>996518</th>\n      <td>Krzeptów - Boisko</td>\n      <td>51.090678</td>\n      <td>16.885584</td>\n    </tr>\n    <tr>\n      <th>996519</th>\n      <td>Krzeptów - Dolina Krzeptowa</td>\n      <td>51.092268</td>\n      <td>16.892523</td>\n    </tr>\n  </tbody>\n</table>\n<p>996520 rows × 3 columns</p>\n</div>"
     },
     "execution_count": 168,
     "metadata": {},
     "output_type": "execute_result"
    }
   ],
   "source": [
    "start_stops"
   ],
   "metadata": {
    "collapsed": false
   }
  },
  {
   "cell_type": "code",
   "execution_count": 169,
   "outputs": [
    {
     "data": {
      "text/plain": "                               stop        lat        lon\n0                          Paprotna  51.147752  17.020539\n1              Obornicka (Wołowska)  51.144385  17.023735\n2                        Bezpieczna  51.141360  17.026376\n3                          Bałtycka  51.136632  17.030617\n4                     Broniewskiego  51.135851  17.037383\n...                             ...        ...        ...\n996515      Smolec - Dębowa (sklep)  51.076932  16.881543\n996516            Krzeptów - skrzy.  51.088752  16.875808\n996517            Krzeptów - Boisko  51.090678  16.885584\n996518  Krzeptów - Dolina Krzeptowa  51.092268  16.892523\n996519            Smolec - Wiśniowa  51.087869  16.909206\n\n[996520 rows x 3 columns]",
      "text/html": "<div>\n<style scoped>\n    .dataframe tbody tr th:only-of-type {\n        vertical-align: middle;\n    }\n\n    .dataframe tbody tr th {\n        vertical-align: top;\n    }\n\n    .dataframe thead th {\n        text-align: right;\n    }\n</style>\n<table border=\"1\" class=\"dataframe\">\n  <thead>\n    <tr style=\"text-align: right;\">\n      <th></th>\n      <th>stop</th>\n      <th>lat</th>\n      <th>lon</th>\n    </tr>\n  </thead>\n  <tbody>\n    <tr>\n      <th>0</th>\n      <td>Paprotna</td>\n      <td>51.147752</td>\n      <td>17.020539</td>\n    </tr>\n    <tr>\n      <th>1</th>\n      <td>Obornicka (Wołowska)</td>\n      <td>51.144385</td>\n      <td>17.023735</td>\n    </tr>\n    <tr>\n      <th>2</th>\n      <td>Bezpieczna</td>\n      <td>51.141360</td>\n      <td>17.026376</td>\n    </tr>\n    <tr>\n      <th>3</th>\n      <td>Bałtycka</td>\n      <td>51.136632</td>\n      <td>17.030617</td>\n    </tr>\n    <tr>\n      <th>4</th>\n      <td>Broniewskiego</td>\n      <td>51.135851</td>\n      <td>17.037383</td>\n    </tr>\n    <tr>\n      <th>...</th>\n      <td>...</td>\n      <td>...</td>\n      <td>...</td>\n    </tr>\n    <tr>\n      <th>996515</th>\n      <td>Smolec - Dębowa (sklep)</td>\n      <td>51.076932</td>\n      <td>16.881543</td>\n    </tr>\n    <tr>\n      <th>996516</th>\n      <td>Krzeptów - skrzy.</td>\n      <td>51.088752</td>\n      <td>16.875808</td>\n    </tr>\n    <tr>\n      <th>996517</th>\n      <td>Krzeptów - Boisko</td>\n      <td>51.090678</td>\n      <td>16.885584</td>\n    </tr>\n    <tr>\n      <th>996518</th>\n      <td>Krzeptów - Dolina Krzeptowa</td>\n      <td>51.092268</td>\n      <td>16.892523</td>\n    </tr>\n    <tr>\n      <th>996519</th>\n      <td>Smolec - Wiśniowa</td>\n      <td>51.087869</td>\n      <td>16.909206</td>\n    </tr>\n  </tbody>\n</table>\n<p>996520 rows × 3 columns</p>\n</div>"
     },
     "execution_count": 169,
     "metadata": {},
     "output_type": "execute_result"
    }
   ],
   "source": [
    "end_stops"
   ],
   "metadata": {
    "collapsed": false
   }
  },
  {
   "cell_type": "code",
   "execution_count": 170,
   "outputs": [],
   "source": [
    "stops = pd.concat([start_stops, end_stops], ignore_index=True)"
   ],
   "metadata": {
    "collapsed": false
   }
  },
  {
   "cell_type": "code",
   "execution_count": 171,
   "outputs": [],
   "source": [
    "averaged_stops = stops.groupby('stop').agg({\n",
    "    'lat': 'mean',\n",
    "    'lon': 'mean'\n",
    "}).reset_index()"
   ],
   "metadata": {
    "collapsed": false
   }
  },
  {
   "cell_type": "code",
   "execution_count": 172,
   "outputs": [
    {
     "data": {
      "text/plain": "                                 stop        lat        lon\n0                              8 Maja  51.113568  17.091411\n1                              AUCHAN  51.052065  16.974054\n2                       Adamczewskich  51.120899  16.869548\n3                        Adamieckiego  51.073770  16.963325\n4                   Aleja Architektów  51.138879  16.928943\n..                                ...        ...        ...\n934             Żórawina - Wrocławska  50.986339  17.038470\n935     Żórawina - kościół Św. Trójcy  50.980426  17.039577\n936                Żórawina - osiedle  50.987618  17.012381\n937                 Żórawina - skrzy.  50.981035  17.035511\n938  Żórawina - skrzy. Niepodległości  50.981291  17.035642\n\n[939 rows x 3 columns]",
      "text/html": "<div>\n<style scoped>\n    .dataframe tbody tr th:only-of-type {\n        vertical-align: middle;\n    }\n\n    .dataframe tbody tr th {\n        vertical-align: top;\n    }\n\n    .dataframe thead th {\n        text-align: right;\n    }\n</style>\n<table border=\"1\" class=\"dataframe\">\n  <thead>\n    <tr style=\"text-align: right;\">\n      <th></th>\n      <th>stop</th>\n      <th>lat</th>\n      <th>lon</th>\n    </tr>\n  </thead>\n  <tbody>\n    <tr>\n      <th>0</th>\n      <td>8 Maja</td>\n      <td>51.113568</td>\n      <td>17.091411</td>\n    </tr>\n    <tr>\n      <th>1</th>\n      <td>AUCHAN</td>\n      <td>51.052065</td>\n      <td>16.974054</td>\n    </tr>\n    <tr>\n      <th>2</th>\n      <td>Adamczewskich</td>\n      <td>51.120899</td>\n      <td>16.869548</td>\n    </tr>\n    <tr>\n      <th>3</th>\n      <td>Adamieckiego</td>\n      <td>51.073770</td>\n      <td>16.963325</td>\n    </tr>\n    <tr>\n      <th>4</th>\n      <td>Aleja Architektów</td>\n      <td>51.138879</td>\n      <td>16.928943</td>\n    </tr>\n    <tr>\n      <th>...</th>\n      <td>...</td>\n      <td>...</td>\n      <td>...</td>\n    </tr>\n    <tr>\n      <th>934</th>\n      <td>Żórawina - Wrocławska</td>\n      <td>50.986339</td>\n      <td>17.038470</td>\n    </tr>\n    <tr>\n      <th>935</th>\n      <td>Żórawina - kościół Św. Trójcy</td>\n      <td>50.980426</td>\n      <td>17.039577</td>\n    </tr>\n    <tr>\n      <th>936</th>\n      <td>Żórawina - osiedle</td>\n      <td>50.987618</td>\n      <td>17.012381</td>\n    </tr>\n    <tr>\n      <th>937</th>\n      <td>Żórawina - skrzy.</td>\n      <td>50.981035</td>\n      <td>17.035511</td>\n    </tr>\n    <tr>\n      <th>938</th>\n      <td>Żórawina - skrzy. Niepodległości</td>\n      <td>50.981291</td>\n      <td>17.035642</td>\n    </tr>\n  </tbody>\n</table>\n<p>939 rows × 3 columns</p>\n</div>"
     },
     "execution_count": 172,
     "metadata": {},
     "output_type": "execute_result"
    }
   ],
   "source": [
    "averaged_stops"
   ],
   "metadata": {
    "collapsed": false
   }
  },
  {
   "cell_type": "code",
   "execution_count": 173,
   "outputs": [],
   "source": [
    "data = pd.merge(data, averaged_stops, left_on='start_stop', right_on='stop', suffixes=('_start', '_new'))\n",
    "data = pd.merge(data, averaged_stops, left_on='end_stop', right_on='stop', suffixes=('_end', '_new'))"
   ],
   "metadata": {
    "collapsed": false
   }
  },
  {
   "cell_type": "code",
   "execution_count": 174,
   "outputs": [
    {
     "name": "stdout",
     "output_type": "stream",
     "text": [
      "        Unnamed: 0       company line departure_time arrival_time  \\\n",
      "9                9  MPK Autobusy    A       21:03:00     21:04:00   \n",
      "14              14  MPK Autobusy    A       21:12:00     21:13:00   \n",
      "73              73  MPK Autobusy    A       23:08:00     23:09:00   \n",
      "90              90  MPK Autobusy    A       21:57:00     21:58:00   \n",
      "95              95  MPK Autobusy    A       22:12:00     22:13:00   \n",
      "...            ...           ...  ...            ...          ...   \n",
      "909047      909047  MPK Autobusy  246       23:31:00     23:32:00   \n",
      "909134      909134  MPK Autobusy  246       25:51:00     25:52:00   \n",
      "909149      909149  MPK Autobusy  246       26:27:00     26:28:00   \n",
      "909170      909170  MPK Autobusy  246       25:21:00     25:22:00   \n",
      "909185      909185  MPK Autobusy  246       26:31:00     26:32:00   \n",
      "\n",
      "               start_stop          end_stop  start_stop_lat  start_stop_lon  \\\n",
      "9       pl. Daniłowskiego  Przybyszewskiego       51.138811       17.060302   \n",
      "14      pl. Daniłowskiego           Berenta       51.138454       17.059912   \n",
      "73      pl. Daniłowskiego  Przybyszewskiego       51.138811       17.060302   \n",
      "90      pl. Daniłowskiego  Przybyszewskiego       51.138811       17.060302   \n",
      "95      pl. Daniłowskiego           Berenta       51.138454       17.059912   \n",
      "...                   ...               ...             ...             ...   \n",
      "909047  pl. Daniłowskiego       Kasprowicza       51.138618       17.058885   \n",
      "909134  pl. Daniłowskiego  Przybyszewskiego       51.138811       17.060302   \n",
      "909149  pl. Daniłowskiego       Kasprowicza       51.138618       17.058885   \n",
      "909170  pl. Daniłowskiego  Przybyszewskiego       51.138811       17.060302   \n",
      "909185  pl. Daniłowskiego       Kasprowicza       51.138618       17.058885   \n",
      "\n",
      "        end_stop_lat  end_stop_lon           stop_end   lat_end    lon_end  \\\n",
      "9          51.140117     17.062967  pl. Daniłowskiego  51.13861  17.059577   \n",
      "14         51.135780     17.057587  pl. Daniłowskiego  51.13861  17.059577   \n",
      "73         51.140117     17.062967  pl. Daniłowskiego  51.13861  17.059577   \n",
      "90         51.140117     17.062967  pl. Daniłowskiego  51.13861  17.059577   \n",
      "95         51.135780     17.057587  pl. Daniłowskiego  51.13861  17.059577   \n",
      "...              ...           ...                ...       ...        ...   \n",
      "909047     51.138007     17.053719  pl. Daniłowskiego  51.13861  17.059577   \n",
      "909134     51.140117     17.062967  pl. Daniłowskiego  51.13861  17.059577   \n",
      "909149     51.138007     17.053719  pl. Daniłowskiego  51.13861  17.059577   \n",
      "909170     51.140117     17.062967  pl. Daniłowskiego  51.13861  17.059577   \n",
      "909185     51.138007     17.053719  pl. Daniłowskiego  51.13861  17.059577   \n",
      "\n",
      "                stop_new    lat_new    lon_new  \n",
      "9       Przybyszewskiego  51.140117  17.062967  \n",
      "14               Berenta  51.135489  17.057415  \n",
      "73      Przybyszewskiego  51.140117  17.062967  \n",
      "90      Przybyszewskiego  51.140117  17.062967  \n",
      "95               Berenta  51.135489  17.057415  \n",
      "...                  ...        ...        ...  \n",
      "909047       Kasprowicza  51.137878  17.053603  \n",
      "909134  Przybyszewskiego  51.140117  17.062967  \n",
      "909149       Kasprowicza  51.137878  17.053603  \n",
      "909170  Przybyszewskiego  51.140117  17.062967  \n",
      "909185       Kasprowicza  51.137878  17.053603  \n",
      "\n",
      "[2533 rows x 17 columns]\n"
     ]
    }
   ],
   "source": [
    "filtered_data = data[data['start_stop'] == 'pl. Daniłowskiego']\n",
    "\n",
    "# Wyświetl wyniki\n",
    "print(filtered_data)"
   ],
   "metadata": {
    "collapsed": false
   }
  },
  {
   "cell_type": "code",
   "execution_count": 175,
   "outputs": [
    {
     "name": "stdout",
     "output_type": "stream",
     "text": [
      "        Unnamed: 0       company line departure_time arrival_time  \\\n",
      "8                8  MPK Autobusy    A       21:02:00     21:03:00   \n",
      "13              13  MPK Autobusy    A       21:10:00     21:12:00   \n",
      "72              72  MPK Autobusy    A       23:06:00     23:08:00   \n",
      "89              89  MPK Autobusy    A       21:56:00     21:57:00   \n",
      "94              94  MPK Autobusy    A       22:10:00     22:12:00   \n",
      "...            ...           ...  ...            ...          ...   \n",
      "909046      909046  MPK Autobusy  246       23:29:00     23:31:00   \n",
      "909133      909133  MPK Autobusy  246       25:50:00     25:51:00   \n",
      "909148      909148  MPK Autobusy  246       26:25:00     26:27:00   \n",
      "909169      909169  MPK Autobusy  246       25:20:00     25:21:00   \n",
      "909184      909184  MPK Autobusy  246       26:29:00     26:31:00   \n",
      "\n",
      "                 start_stop           end_stop  start_stop_lat  \\\n",
      "8               Kasprowicza  pl. Daniłowskiego       51.137865   \n",
      "13      KOSZAROWA (Szpital)  pl. Daniłowskiego       51.141663   \n",
      "72                  Berenta  pl. Daniłowskiego       51.135511   \n",
      "89              Kasprowicza  pl. Daniłowskiego       51.137865   \n",
      "94      KOSZAROWA (Szpital)  pl. Daniłowskiego       51.141663   \n",
      "...                     ...                ...             ...   \n",
      "909046  KOSZAROWA (Szpital)  pl. Daniłowskiego       51.141663   \n",
      "909133          Kasprowicza  pl. Daniłowskiego       51.137865   \n",
      "909148  KOSZAROWA (Szpital)  pl. Daniłowskiego       51.141663   \n",
      "909169          Kasprowicza  pl. Daniłowskiego       51.137865   \n",
      "909184  KOSZAROWA (Szpital)  pl. Daniłowskiego       51.141663   \n",
      "\n",
      "        start_stop_lon  end_stop_lat  end_stop_lon             stop_end  \\\n",
      "8            17.053671     51.138811     17.060302          Kasprowicza   \n",
      "13           17.064776     51.138454     17.059912  KOSZAROWA (Szpital)   \n",
      "72           17.057586     51.138811     17.060302              Berenta   \n",
      "89           17.053671     51.138811     17.060302          Kasprowicza   \n",
      "94           17.064776     51.138454     17.059912  KOSZAROWA (Szpital)   \n",
      "...                ...           ...           ...                  ...   \n",
      "909046       17.064776     51.138618     17.058885  KOSZAROWA (Szpital)   \n",
      "909133       17.053671     51.138811     17.060302          Kasprowicza   \n",
      "909148       17.064776     51.138618     17.058885  KOSZAROWA (Szpital)   \n",
      "909169       17.053671     51.138811     17.060302          Kasprowicza   \n",
      "909184       17.064776     51.138618     17.058885  KOSZAROWA (Szpital)   \n",
      "\n",
      "          lat_end    lon_end           stop_new   lat_new    lon_new  \n",
      "8       51.137878  17.053603  pl. Daniłowskiego  51.13861  17.059577  \n",
      "13      51.141663  17.064776  pl. Daniłowskiego  51.13861  17.059577  \n",
      "72      51.135489  17.057415  pl. Daniłowskiego  51.13861  17.059577  \n",
      "89      51.137878  17.053603  pl. Daniłowskiego  51.13861  17.059577  \n",
      "94      51.141663  17.064776  pl. Daniłowskiego  51.13861  17.059577  \n",
      "...           ...        ...                ...       ...        ...  \n",
      "909046  51.141663  17.064776  pl. Daniłowskiego  51.13861  17.059577  \n",
      "909133  51.137878  17.053603  pl. Daniłowskiego  51.13861  17.059577  \n",
      "909148  51.141663  17.064776  pl. Daniłowskiego  51.13861  17.059577  \n",
      "909169  51.137878  17.053603  pl. Daniłowskiego  51.13861  17.059577  \n",
      "909184  51.141663  17.064776  pl. Daniłowskiego  51.13861  17.059577  \n",
      "\n",
      "[2533 rows x 17 columns]\n"
     ]
    }
   ],
   "source": [
    "filtered_data = data[data['end_stop'] == 'pl. Daniłowskiego']\n",
    "\n",
    "# Wyświetl wyniki\n",
    "print(filtered_data)"
   ],
   "metadata": {
    "collapsed": false
   }
  },
  {
   "cell_type": "code",
   "execution_count": 176,
   "outputs": [
    {
     "data": {
      "text/plain": "        Unnamed: 0               company line departure_time arrival_time  \\\n0                0          MPK Autobusy    A       20:52:00     20:53:00   \n1                1          MPK Autobusy    A       20:53:00     20:54:00   \n2                2          MPK Autobusy    A       20:54:00     20:55:00   \n3                3          MPK Autobusy    A       20:55:00     20:57:00   \n4                4          MPK Autobusy    A       20:57:00     20:59:00   \n...            ...                   ...  ...            ...          ...   \n996515      996515  DLA Kąty Wrocławskie  967       18:38:00     18:39:00   \n996516      996516  DLA Kąty Wrocławskie  967       18:39:00     18:41:00   \n996517      996517  DLA Kąty Wrocławskie  967       18:41:00     18:42:00   \n996518      996518  DLA Kąty Wrocławskie  967       18:42:00     18:43:00   \n996519      996519  DLA Kąty Wrocławskie  967       18:43:00     18:45:00   \n\n                         start_stop                     end_stop  \\\n0               Zajezdnia Obornicka                     Paprotna   \n1                          Paprotna         Obornicka (Wołowska)   \n2              Obornicka (Wołowska)                   Bezpieczna   \n3                        Bezpieczna                     Bałtycka   \n4                          Bałtycka                Broniewskiego   \n...                             ...                          ...   \n996515        Smolec - Lipowa/pętla      Smolec - Dębowa (sklep)   \n996516      Smolec - Dębowa (sklep)            Krzeptów - skrzy.   \n996517            Krzeptów - skrzy.            Krzeptów - Boisko   \n996518            Krzeptów - Boisko  Krzeptów - Dolina Krzeptowa   \n996519  Krzeptów - Dolina Krzeptowa            Smolec - Wiśniowa   \n\n        start_stop_lat  start_stop_lon  end_stop_lat  end_stop_lon  \\\n0            51.148737       17.021069     51.147752     17.020539   \n1            51.147752       17.020539     51.144385     17.023735   \n2            51.144385       17.023735     51.141360     17.026376   \n3            51.141360       17.026376     51.136632     17.030617   \n4            51.136632       17.030617     51.135851     17.037383   \n...                ...             ...           ...           ...   \n996515       51.075005       16.884421     51.076932     16.881543   \n996516       51.076932       16.881543     51.088752     16.875808   \n996517       51.088752       16.875808     51.090678     16.885584   \n996518       51.090678       16.885584     51.092268     16.892523   \n996519       51.092268       16.892523     51.087869     16.909206   \n\n                           stop_end    lat_end    lon_end  \\\n0               Zajezdnia Obornicka  51.148737  17.021069   \n1                          Paprotna  51.147970  17.020584   \n2              Obornicka (Wołowska)  51.144385  17.023735   \n3                        Bezpieczna  51.141735  17.025830   \n4                          Bałtycka  51.137439  17.029936   \n...                             ...        ...        ...   \n996515        Smolec - Lipowa/pętla  51.075005  16.884421   \n996516      Smolec - Dębowa (sklep)  51.076932  16.881543   \n996517            Krzeptów - skrzy.  51.088746  16.875750   \n996518            Krzeptów - Boisko  51.090676  16.885301   \n996519  Krzeptów - Dolina Krzeptowa  51.092291  16.892479   \n\n                           stop_new    lat_new    lon_new  \n0                          Paprotna  51.147970  17.020584  \n1              Obornicka (Wołowska)  51.144385  17.023735  \n2                        Bezpieczna  51.141735  17.025830  \n3                          Bałtycka  51.137439  17.029936  \n4                     Broniewskiego  51.135709  17.036390  \n...                             ...        ...        ...  \n996515      Smolec - Dębowa (sklep)  51.076932  16.881543  \n996516            Krzeptów - skrzy.  51.088746  16.875750  \n996517            Krzeptów - Boisko  51.090676  16.885301  \n996518  Krzeptów - Dolina Krzeptowa  51.092291  16.892479  \n996519            Smolec - Wiśniowa  51.088105  16.908684  \n\n[996520 rows x 17 columns]",
      "text/html": "<div>\n<style scoped>\n    .dataframe tbody tr th:only-of-type {\n        vertical-align: middle;\n    }\n\n    .dataframe tbody tr th {\n        vertical-align: top;\n    }\n\n    .dataframe thead th {\n        text-align: right;\n    }\n</style>\n<table border=\"1\" class=\"dataframe\">\n  <thead>\n    <tr style=\"text-align: right;\">\n      <th></th>\n      <th>Unnamed: 0</th>\n      <th>company</th>\n      <th>line</th>\n      <th>departure_time</th>\n      <th>arrival_time</th>\n      <th>start_stop</th>\n      <th>end_stop</th>\n      <th>start_stop_lat</th>\n      <th>start_stop_lon</th>\n      <th>end_stop_lat</th>\n      <th>end_stop_lon</th>\n      <th>stop_end</th>\n      <th>lat_end</th>\n      <th>lon_end</th>\n      <th>stop_new</th>\n      <th>lat_new</th>\n      <th>lon_new</th>\n    </tr>\n  </thead>\n  <tbody>\n    <tr>\n      <th>0</th>\n      <td>0</td>\n      <td>MPK Autobusy</td>\n      <td>A</td>\n      <td>20:52:00</td>\n      <td>20:53:00</td>\n      <td>Zajezdnia Obornicka</td>\n      <td>Paprotna</td>\n      <td>51.148737</td>\n      <td>17.021069</td>\n      <td>51.147752</td>\n      <td>17.020539</td>\n      <td>Zajezdnia Obornicka</td>\n      <td>51.148737</td>\n      <td>17.021069</td>\n      <td>Paprotna</td>\n      <td>51.147970</td>\n      <td>17.020584</td>\n    </tr>\n    <tr>\n      <th>1</th>\n      <td>1</td>\n      <td>MPK Autobusy</td>\n      <td>A</td>\n      <td>20:53:00</td>\n      <td>20:54:00</td>\n      <td>Paprotna</td>\n      <td>Obornicka (Wołowska)</td>\n      <td>51.147752</td>\n      <td>17.020539</td>\n      <td>51.144385</td>\n      <td>17.023735</td>\n      <td>Paprotna</td>\n      <td>51.147970</td>\n      <td>17.020584</td>\n      <td>Obornicka (Wołowska)</td>\n      <td>51.144385</td>\n      <td>17.023735</td>\n    </tr>\n    <tr>\n      <th>2</th>\n      <td>2</td>\n      <td>MPK Autobusy</td>\n      <td>A</td>\n      <td>20:54:00</td>\n      <td>20:55:00</td>\n      <td>Obornicka (Wołowska)</td>\n      <td>Bezpieczna</td>\n      <td>51.144385</td>\n      <td>17.023735</td>\n      <td>51.141360</td>\n      <td>17.026376</td>\n      <td>Obornicka (Wołowska)</td>\n      <td>51.144385</td>\n      <td>17.023735</td>\n      <td>Bezpieczna</td>\n      <td>51.141735</td>\n      <td>17.025830</td>\n    </tr>\n    <tr>\n      <th>3</th>\n      <td>3</td>\n      <td>MPK Autobusy</td>\n      <td>A</td>\n      <td>20:55:00</td>\n      <td>20:57:00</td>\n      <td>Bezpieczna</td>\n      <td>Bałtycka</td>\n      <td>51.141360</td>\n      <td>17.026376</td>\n      <td>51.136632</td>\n      <td>17.030617</td>\n      <td>Bezpieczna</td>\n      <td>51.141735</td>\n      <td>17.025830</td>\n      <td>Bałtycka</td>\n      <td>51.137439</td>\n      <td>17.029936</td>\n    </tr>\n    <tr>\n      <th>4</th>\n      <td>4</td>\n      <td>MPK Autobusy</td>\n      <td>A</td>\n      <td>20:57:00</td>\n      <td>20:59:00</td>\n      <td>Bałtycka</td>\n      <td>Broniewskiego</td>\n      <td>51.136632</td>\n      <td>17.030617</td>\n      <td>51.135851</td>\n      <td>17.037383</td>\n      <td>Bałtycka</td>\n      <td>51.137439</td>\n      <td>17.029936</td>\n      <td>Broniewskiego</td>\n      <td>51.135709</td>\n      <td>17.036390</td>\n    </tr>\n    <tr>\n      <th>...</th>\n      <td>...</td>\n      <td>...</td>\n      <td>...</td>\n      <td>...</td>\n      <td>...</td>\n      <td>...</td>\n      <td>...</td>\n      <td>...</td>\n      <td>...</td>\n      <td>...</td>\n      <td>...</td>\n      <td>...</td>\n      <td>...</td>\n      <td>...</td>\n      <td>...</td>\n      <td>...</td>\n      <td>...</td>\n    </tr>\n    <tr>\n      <th>996515</th>\n      <td>996515</td>\n      <td>DLA Kąty Wrocławskie</td>\n      <td>967</td>\n      <td>18:38:00</td>\n      <td>18:39:00</td>\n      <td>Smolec - Lipowa/pętla</td>\n      <td>Smolec - Dębowa (sklep)</td>\n      <td>51.075005</td>\n      <td>16.884421</td>\n      <td>51.076932</td>\n      <td>16.881543</td>\n      <td>Smolec - Lipowa/pętla</td>\n      <td>51.075005</td>\n      <td>16.884421</td>\n      <td>Smolec - Dębowa (sklep)</td>\n      <td>51.076932</td>\n      <td>16.881543</td>\n    </tr>\n    <tr>\n      <th>996516</th>\n      <td>996516</td>\n      <td>DLA Kąty Wrocławskie</td>\n      <td>967</td>\n      <td>18:39:00</td>\n      <td>18:41:00</td>\n      <td>Smolec - Dębowa (sklep)</td>\n      <td>Krzeptów - skrzy.</td>\n      <td>51.076932</td>\n      <td>16.881543</td>\n      <td>51.088752</td>\n      <td>16.875808</td>\n      <td>Smolec - Dębowa (sklep)</td>\n      <td>51.076932</td>\n      <td>16.881543</td>\n      <td>Krzeptów - skrzy.</td>\n      <td>51.088746</td>\n      <td>16.875750</td>\n    </tr>\n    <tr>\n      <th>996517</th>\n      <td>996517</td>\n      <td>DLA Kąty Wrocławskie</td>\n      <td>967</td>\n      <td>18:41:00</td>\n      <td>18:42:00</td>\n      <td>Krzeptów - skrzy.</td>\n      <td>Krzeptów - Boisko</td>\n      <td>51.088752</td>\n      <td>16.875808</td>\n      <td>51.090678</td>\n      <td>16.885584</td>\n      <td>Krzeptów - skrzy.</td>\n      <td>51.088746</td>\n      <td>16.875750</td>\n      <td>Krzeptów - Boisko</td>\n      <td>51.090676</td>\n      <td>16.885301</td>\n    </tr>\n    <tr>\n      <th>996518</th>\n      <td>996518</td>\n      <td>DLA Kąty Wrocławskie</td>\n      <td>967</td>\n      <td>18:42:00</td>\n      <td>18:43:00</td>\n      <td>Krzeptów - Boisko</td>\n      <td>Krzeptów - Dolina Krzeptowa</td>\n      <td>51.090678</td>\n      <td>16.885584</td>\n      <td>51.092268</td>\n      <td>16.892523</td>\n      <td>Krzeptów - Boisko</td>\n      <td>51.090676</td>\n      <td>16.885301</td>\n      <td>Krzeptów - Dolina Krzeptowa</td>\n      <td>51.092291</td>\n      <td>16.892479</td>\n    </tr>\n    <tr>\n      <th>996519</th>\n      <td>996519</td>\n      <td>DLA Kąty Wrocławskie</td>\n      <td>967</td>\n      <td>18:43:00</td>\n      <td>18:45:00</td>\n      <td>Krzeptów - Dolina Krzeptowa</td>\n      <td>Smolec - Wiśniowa</td>\n      <td>51.092268</td>\n      <td>16.892523</td>\n      <td>51.087869</td>\n      <td>16.909206</td>\n      <td>Krzeptów - Dolina Krzeptowa</td>\n      <td>51.092291</td>\n      <td>16.892479</td>\n      <td>Smolec - Wiśniowa</td>\n      <td>51.088105</td>\n      <td>16.908684</td>\n    </tr>\n  </tbody>\n</table>\n<p>996520 rows × 17 columns</p>\n</div>"
     },
     "execution_count": 176,
     "metadata": {},
     "output_type": "execute_result"
    }
   ],
   "source": [
    "data"
   ],
   "metadata": {
    "collapsed": false
   }
  },
  {
   "cell_type": "code",
   "execution_count": 177,
   "outputs": [],
   "source": [
    "data = data.drop(['start_stop_lat', 'start_stop_lon','end_stop_lat','end_stop_lon','stop_end','stop_new'], axis=1)\n"
   ],
   "metadata": {
    "collapsed": false
   }
  },
  {
   "cell_type": "code",
   "execution_count": 178,
   "outputs": [
    {
     "data": {
      "text/plain": "        Unnamed: 0               company line departure_time arrival_time  \\\n0                0          MPK Autobusy    A       20:52:00     20:53:00   \n1                1          MPK Autobusy    A       20:53:00     20:54:00   \n2                2          MPK Autobusy    A       20:54:00     20:55:00   \n3                3          MPK Autobusy    A       20:55:00     20:57:00   \n4                4          MPK Autobusy    A       20:57:00     20:59:00   \n...            ...                   ...  ...            ...          ...   \n996515      996515  DLA Kąty Wrocławskie  967       18:38:00     18:39:00   \n996516      996516  DLA Kąty Wrocławskie  967       18:39:00     18:41:00   \n996517      996517  DLA Kąty Wrocławskie  967       18:41:00     18:42:00   \n996518      996518  DLA Kąty Wrocławskie  967       18:42:00     18:43:00   \n996519      996519  DLA Kąty Wrocławskie  967       18:43:00     18:45:00   \n\n                         start_stop                     end_stop    lat_end  \\\n0               Zajezdnia Obornicka                     Paprotna  51.148737   \n1                          Paprotna         Obornicka (Wołowska)  51.147970   \n2              Obornicka (Wołowska)                   Bezpieczna  51.144385   \n3                        Bezpieczna                     Bałtycka  51.141735   \n4                          Bałtycka                Broniewskiego  51.137439   \n...                             ...                          ...        ...   \n996515        Smolec - Lipowa/pętla      Smolec - Dębowa (sklep)  51.075005   \n996516      Smolec - Dębowa (sklep)            Krzeptów - skrzy.  51.076932   \n996517            Krzeptów - skrzy.            Krzeptów - Boisko  51.088746   \n996518            Krzeptów - Boisko  Krzeptów - Dolina Krzeptowa  51.090676   \n996519  Krzeptów - Dolina Krzeptowa            Smolec - Wiśniowa  51.092291   \n\n          lon_end    lat_new    lon_new  \n0       17.021069  51.147970  17.020584  \n1       17.020584  51.144385  17.023735  \n2       17.023735  51.141735  17.025830  \n3       17.025830  51.137439  17.029936  \n4       17.029936  51.135709  17.036390  \n...           ...        ...        ...  \n996515  16.884421  51.076932  16.881543  \n996516  16.881543  51.088746  16.875750  \n996517  16.875750  51.090676  16.885301  \n996518  16.885301  51.092291  16.892479  \n996519  16.892479  51.088105  16.908684  \n\n[996520 rows x 11 columns]",
      "text/html": "<div>\n<style scoped>\n    .dataframe tbody tr th:only-of-type {\n        vertical-align: middle;\n    }\n\n    .dataframe tbody tr th {\n        vertical-align: top;\n    }\n\n    .dataframe thead th {\n        text-align: right;\n    }\n</style>\n<table border=\"1\" class=\"dataframe\">\n  <thead>\n    <tr style=\"text-align: right;\">\n      <th></th>\n      <th>Unnamed: 0</th>\n      <th>company</th>\n      <th>line</th>\n      <th>departure_time</th>\n      <th>arrival_time</th>\n      <th>start_stop</th>\n      <th>end_stop</th>\n      <th>lat_end</th>\n      <th>lon_end</th>\n      <th>lat_new</th>\n      <th>lon_new</th>\n    </tr>\n  </thead>\n  <tbody>\n    <tr>\n      <th>0</th>\n      <td>0</td>\n      <td>MPK Autobusy</td>\n      <td>A</td>\n      <td>20:52:00</td>\n      <td>20:53:00</td>\n      <td>Zajezdnia Obornicka</td>\n      <td>Paprotna</td>\n      <td>51.148737</td>\n      <td>17.021069</td>\n      <td>51.147970</td>\n      <td>17.020584</td>\n    </tr>\n    <tr>\n      <th>1</th>\n      <td>1</td>\n      <td>MPK Autobusy</td>\n      <td>A</td>\n      <td>20:53:00</td>\n      <td>20:54:00</td>\n      <td>Paprotna</td>\n      <td>Obornicka (Wołowska)</td>\n      <td>51.147970</td>\n      <td>17.020584</td>\n      <td>51.144385</td>\n      <td>17.023735</td>\n    </tr>\n    <tr>\n      <th>2</th>\n      <td>2</td>\n      <td>MPK Autobusy</td>\n      <td>A</td>\n      <td>20:54:00</td>\n      <td>20:55:00</td>\n      <td>Obornicka (Wołowska)</td>\n      <td>Bezpieczna</td>\n      <td>51.144385</td>\n      <td>17.023735</td>\n      <td>51.141735</td>\n      <td>17.025830</td>\n    </tr>\n    <tr>\n      <th>3</th>\n      <td>3</td>\n      <td>MPK Autobusy</td>\n      <td>A</td>\n      <td>20:55:00</td>\n      <td>20:57:00</td>\n      <td>Bezpieczna</td>\n      <td>Bałtycka</td>\n      <td>51.141735</td>\n      <td>17.025830</td>\n      <td>51.137439</td>\n      <td>17.029936</td>\n    </tr>\n    <tr>\n      <th>4</th>\n      <td>4</td>\n      <td>MPK Autobusy</td>\n      <td>A</td>\n      <td>20:57:00</td>\n      <td>20:59:00</td>\n      <td>Bałtycka</td>\n      <td>Broniewskiego</td>\n      <td>51.137439</td>\n      <td>17.029936</td>\n      <td>51.135709</td>\n      <td>17.036390</td>\n    </tr>\n    <tr>\n      <th>...</th>\n      <td>...</td>\n      <td>...</td>\n      <td>...</td>\n      <td>...</td>\n      <td>...</td>\n      <td>...</td>\n      <td>...</td>\n      <td>...</td>\n      <td>...</td>\n      <td>...</td>\n      <td>...</td>\n    </tr>\n    <tr>\n      <th>996515</th>\n      <td>996515</td>\n      <td>DLA Kąty Wrocławskie</td>\n      <td>967</td>\n      <td>18:38:00</td>\n      <td>18:39:00</td>\n      <td>Smolec - Lipowa/pętla</td>\n      <td>Smolec - Dębowa (sklep)</td>\n      <td>51.075005</td>\n      <td>16.884421</td>\n      <td>51.076932</td>\n      <td>16.881543</td>\n    </tr>\n    <tr>\n      <th>996516</th>\n      <td>996516</td>\n      <td>DLA Kąty Wrocławskie</td>\n      <td>967</td>\n      <td>18:39:00</td>\n      <td>18:41:00</td>\n      <td>Smolec - Dębowa (sklep)</td>\n      <td>Krzeptów - skrzy.</td>\n      <td>51.076932</td>\n      <td>16.881543</td>\n      <td>51.088746</td>\n      <td>16.875750</td>\n    </tr>\n    <tr>\n      <th>996517</th>\n      <td>996517</td>\n      <td>DLA Kąty Wrocławskie</td>\n      <td>967</td>\n      <td>18:41:00</td>\n      <td>18:42:00</td>\n      <td>Krzeptów - skrzy.</td>\n      <td>Krzeptów - Boisko</td>\n      <td>51.088746</td>\n      <td>16.875750</td>\n      <td>51.090676</td>\n      <td>16.885301</td>\n    </tr>\n    <tr>\n      <th>996518</th>\n      <td>996518</td>\n      <td>DLA Kąty Wrocławskie</td>\n      <td>967</td>\n      <td>18:42:00</td>\n      <td>18:43:00</td>\n      <td>Krzeptów - Boisko</td>\n      <td>Krzeptów - Dolina Krzeptowa</td>\n      <td>51.090676</td>\n      <td>16.885301</td>\n      <td>51.092291</td>\n      <td>16.892479</td>\n    </tr>\n    <tr>\n      <th>996519</th>\n      <td>996519</td>\n      <td>DLA Kąty Wrocławskie</td>\n      <td>967</td>\n      <td>18:43:00</td>\n      <td>18:45:00</td>\n      <td>Krzeptów - Dolina Krzeptowa</td>\n      <td>Smolec - Wiśniowa</td>\n      <td>51.092291</td>\n      <td>16.892479</td>\n      <td>51.088105</td>\n      <td>16.908684</td>\n    </tr>\n  </tbody>\n</table>\n<p>996520 rows × 11 columns</p>\n</div>"
     },
     "execution_count": 178,
     "metadata": {},
     "output_type": "execute_result"
    }
   ],
   "source": [
    "data"
   ],
   "metadata": {
    "collapsed": false
   }
  },
  {
   "cell_type": "code",
   "execution_count": 179,
   "outputs": [],
   "source": [
    "data = data.rename(columns={'lat_end': 'start_stop_lat_avg', 'lon_end': 'start_stop_lot_avg','lat_new': 'start_end_lat_avg', 'lon_new': 'start_end_lot_avg'})\n"
   ],
   "metadata": {
    "collapsed": false
   }
  },
  {
   "cell_type": "code",
   "execution_count": 180,
   "outputs": [
    {
     "data": {
      "text/plain": "        Unnamed: 0               company line departure_time arrival_time  \\\n0                0          MPK Autobusy    A       20:52:00     20:53:00   \n1                1          MPK Autobusy    A       20:53:00     20:54:00   \n2                2          MPK Autobusy    A       20:54:00     20:55:00   \n3                3          MPK Autobusy    A       20:55:00     20:57:00   \n4                4          MPK Autobusy    A       20:57:00     20:59:00   \n...            ...                   ...  ...            ...          ...   \n996515      996515  DLA Kąty Wrocławskie  967       18:38:00     18:39:00   \n996516      996516  DLA Kąty Wrocławskie  967       18:39:00     18:41:00   \n996517      996517  DLA Kąty Wrocławskie  967       18:41:00     18:42:00   \n996518      996518  DLA Kąty Wrocławskie  967       18:42:00     18:43:00   \n996519      996519  DLA Kąty Wrocławskie  967       18:43:00     18:45:00   \n\n                         start_stop                     end_stop  \\\n0               Zajezdnia Obornicka                     Paprotna   \n1                          Paprotna         Obornicka (Wołowska)   \n2              Obornicka (Wołowska)                   Bezpieczna   \n3                        Bezpieczna                     Bałtycka   \n4                          Bałtycka                Broniewskiego   \n...                             ...                          ...   \n996515        Smolec - Lipowa/pętla      Smolec - Dębowa (sklep)   \n996516      Smolec - Dębowa (sklep)            Krzeptów - skrzy.   \n996517            Krzeptów - skrzy.            Krzeptów - Boisko   \n996518            Krzeptów - Boisko  Krzeptów - Dolina Krzeptowa   \n996519  Krzeptów - Dolina Krzeptowa            Smolec - Wiśniowa   \n\n        start_stop_lat_avg  start_stop_lot_avg  start_end_lat_avg  \\\n0                51.148737           17.021069          51.147970   \n1                51.147970           17.020584          51.144385   \n2                51.144385           17.023735          51.141735   \n3                51.141735           17.025830          51.137439   \n4                51.137439           17.029936          51.135709   \n...                    ...                 ...                ...   \n996515           51.075005           16.884421          51.076932   \n996516           51.076932           16.881543          51.088746   \n996517           51.088746           16.875750          51.090676   \n996518           51.090676           16.885301          51.092291   \n996519           51.092291           16.892479          51.088105   \n\n        start_end_lot_avg  \n0               17.020584  \n1               17.023735  \n2               17.025830  \n3               17.029936  \n4               17.036390  \n...                   ...  \n996515          16.881543  \n996516          16.875750  \n996517          16.885301  \n996518          16.892479  \n996519          16.908684  \n\n[996520 rows x 11 columns]",
      "text/html": "<div>\n<style scoped>\n    .dataframe tbody tr th:only-of-type {\n        vertical-align: middle;\n    }\n\n    .dataframe tbody tr th {\n        vertical-align: top;\n    }\n\n    .dataframe thead th {\n        text-align: right;\n    }\n</style>\n<table border=\"1\" class=\"dataframe\">\n  <thead>\n    <tr style=\"text-align: right;\">\n      <th></th>\n      <th>Unnamed: 0</th>\n      <th>company</th>\n      <th>line</th>\n      <th>departure_time</th>\n      <th>arrival_time</th>\n      <th>start_stop</th>\n      <th>end_stop</th>\n      <th>start_stop_lat_avg</th>\n      <th>start_stop_lot_avg</th>\n      <th>start_end_lat_avg</th>\n      <th>start_end_lot_avg</th>\n    </tr>\n  </thead>\n  <tbody>\n    <tr>\n      <th>0</th>\n      <td>0</td>\n      <td>MPK Autobusy</td>\n      <td>A</td>\n      <td>20:52:00</td>\n      <td>20:53:00</td>\n      <td>Zajezdnia Obornicka</td>\n      <td>Paprotna</td>\n      <td>51.148737</td>\n      <td>17.021069</td>\n      <td>51.147970</td>\n      <td>17.020584</td>\n    </tr>\n    <tr>\n      <th>1</th>\n      <td>1</td>\n      <td>MPK Autobusy</td>\n      <td>A</td>\n      <td>20:53:00</td>\n      <td>20:54:00</td>\n      <td>Paprotna</td>\n      <td>Obornicka (Wołowska)</td>\n      <td>51.147970</td>\n      <td>17.020584</td>\n      <td>51.144385</td>\n      <td>17.023735</td>\n    </tr>\n    <tr>\n      <th>2</th>\n      <td>2</td>\n      <td>MPK Autobusy</td>\n      <td>A</td>\n      <td>20:54:00</td>\n      <td>20:55:00</td>\n      <td>Obornicka (Wołowska)</td>\n      <td>Bezpieczna</td>\n      <td>51.144385</td>\n      <td>17.023735</td>\n      <td>51.141735</td>\n      <td>17.025830</td>\n    </tr>\n    <tr>\n      <th>3</th>\n      <td>3</td>\n      <td>MPK Autobusy</td>\n      <td>A</td>\n      <td>20:55:00</td>\n      <td>20:57:00</td>\n      <td>Bezpieczna</td>\n      <td>Bałtycka</td>\n      <td>51.141735</td>\n      <td>17.025830</td>\n      <td>51.137439</td>\n      <td>17.029936</td>\n    </tr>\n    <tr>\n      <th>4</th>\n      <td>4</td>\n      <td>MPK Autobusy</td>\n      <td>A</td>\n      <td>20:57:00</td>\n      <td>20:59:00</td>\n      <td>Bałtycka</td>\n      <td>Broniewskiego</td>\n      <td>51.137439</td>\n      <td>17.029936</td>\n      <td>51.135709</td>\n      <td>17.036390</td>\n    </tr>\n    <tr>\n      <th>...</th>\n      <td>...</td>\n      <td>...</td>\n      <td>...</td>\n      <td>...</td>\n      <td>...</td>\n      <td>...</td>\n      <td>...</td>\n      <td>...</td>\n      <td>...</td>\n      <td>...</td>\n      <td>...</td>\n    </tr>\n    <tr>\n      <th>996515</th>\n      <td>996515</td>\n      <td>DLA Kąty Wrocławskie</td>\n      <td>967</td>\n      <td>18:38:00</td>\n      <td>18:39:00</td>\n      <td>Smolec - Lipowa/pętla</td>\n      <td>Smolec - Dębowa (sklep)</td>\n      <td>51.075005</td>\n      <td>16.884421</td>\n      <td>51.076932</td>\n      <td>16.881543</td>\n    </tr>\n    <tr>\n      <th>996516</th>\n      <td>996516</td>\n      <td>DLA Kąty Wrocławskie</td>\n      <td>967</td>\n      <td>18:39:00</td>\n      <td>18:41:00</td>\n      <td>Smolec - Dębowa (sklep)</td>\n      <td>Krzeptów - skrzy.</td>\n      <td>51.076932</td>\n      <td>16.881543</td>\n      <td>51.088746</td>\n      <td>16.875750</td>\n    </tr>\n    <tr>\n      <th>996517</th>\n      <td>996517</td>\n      <td>DLA Kąty Wrocławskie</td>\n      <td>967</td>\n      <td>18:41:00</td>\n      <td>18:42:00</td>\n      <td>Krzeptów - skrzy.</td>\n      <td>Krzeptów - Boisko</td>\n      <td>51.088746</td>\n      <td>16.875750</td>\n      <td>51.090676</td>\n      <td>16.885301</td>\n    </tr>\n    <tr>\n      <th>996518</th>\n      <td>996518</td>\n      <td>DLA Kąty Wrocławskie</td>\n      <td>967</td>\n      <td>18:42:00</td>\n      <td>18:43:00</td>\n      <td>Krzeptów - Boisko</td>\n      <td>Krzeptów - Dolina Krzeptowa</td>\n      <td>51.090676</td>\n      <td>16.885301</td>\n      <td>51.092291</td>\n      <td>16.892479</td>\n    </tr>\n    <tr>\n      <th>996519</th>\n      <td>996519</td>\n      <td>DLA Kąty Wrocławskie</td>\n      <td>967</td>\n      <td>18:43:00</td>\n      <td>18:45:00</td>\n      <td>Krzeptów - Dolina Krzeptowa</td>\n      <td>Smolec - Wiśniowa</td>\n      <td>51.092291</td>\n      <td>16.892479</td>\n      <td>51.088105</td>\n      <td>16.908684</td>\n    </tr>\n  </tbody>\n</table>\n<p>996520 rows × 11 columns</p>\n</div>"
     },
     "execution_count": 180,
     "metadata": {},
     "output_type": "execute_result"
    }
   ],
   "source": [
    "data"
   ],
   "metadata": {
    "collapsed": false
   }
  },
  {
   "cell_type": "code",
   "execution_count": 181,
   "outputs": [],
   "source": [
    "data.to_csv('D:\\\\Studia\\\\6 semestr\\\\Sztuczna\\\\Lista1\\\\data_avg.csv', index=False)"
   ],
   "metadata": {
    "collapsed": false
   }
  },
  {
   "cell_type": "code",
   "execution_count": 181,
   "outputs": [],
   "source": [],
   "metadata": {
    "collapsed": false
   }
  }
 ],
 "metadata": {
  "kernelspec": {
   "display_name": "Python 3",
   "language": "python",
   "name": "python3"
  },
  "language_info": {
   "codemirror_mode": {
    "name": "ipython",
    "version": 2
   },
   "file_extension": ".py",
   "mimetype": "text/x-python",
   "name": "python",
   "nbconvert_exporter": "python",
   "pygments_lexer": "ipython2",
   "version": "2.7.6"
  }
 },
 "nbformat": 4,
 "nbformat_minor": 0
}
